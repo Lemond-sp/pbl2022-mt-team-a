{
  "cells": [
    {
      "attachments": {},
      "cell_type": "markdown",
      "metadata": {
        "id": "hwh8_W9RGIuT"
      },
      "source": [
        "## 日英翻訳によるデータ拡張\n",
        "\n",
        "- JParaCrawl big model v3.0 を使用\n",
        "- パスは適当に設定してください"
      ]
    },
    {
      "cell_type": "code",
      "execution_count": null,
      "metadata": {
        "colab": {
          "base_uri": "https://localhost:8080/"
        },
        "id": "2R9MxPEOFyRJ",
        "outputId": "af0607c6-995b-4b01-ae4c-5c1c8b626ed4"
      },
      "outputs": [],
      "source": [
        "from google.colab import drive\n",
        "drive.mount('/content/drive')"
      ]
    },
    {
      "cell_type": "code",
      "execution_count": null,
      "metadata": {
        "colab": {
          "base_uri": "https://localhost:8080/"
        },
        "id": "I1aaWYvJ9E-V",
        "outputId": "04ea1265-d9c0-4291-d2ac-7ca276831516"
      },
      "outputs": [],
      "source": [
        "# ライブラリのインストール\n",
        "! pip install sentencepiece\n",
        "! pip install fairseq==0.12.1\n",
        "! pip install sacrebleu\n",
        "! pip install sacrebleu[ja]\n",
        "\n",
        "# テストセット(test,dev)であるwmt20のロード\n",
        "! sacrebleu -t wmt20 -l en-ja --echo src > wmt.test.en\n",
        "! sacrebleu -t wmt20 -l en-ja --echo ref > wmt.test.ja\n",
        "! sacrebleu -t wmt20/dev -l en-ja --echo src > wmt.valid.en\n",
        "! sacrebleu -t wmt20/dev -l en-ja --echo ref > wmt.valid.ja"
      ]
    },
    {
      "cell_type": "code",
      "execution_count": null,
      "metadata": {},
      "outputs": [],
      "source": [
        "!wget 'https://www.kecl.ntt.co.jp/icl/lirg/jparacrawl/release/1.0/pretrained_models/en-ja/big.tar.gz'\n",
        "!tar -zxvf big.tar.gz\n",
        "!wget 'https://www.kecl.ntt.co.jp/icl/lirg/jparacrawl/release/3.0/spm_models/en-ja_spm.tar.gz'\n",
        "!tar -zxvf en-ja_spm.tar.gz\n",
        "!wget 'https://data.statmt.org/news-crawl/ja/news.2021.ja.shuffled.deduped.gz'\n",
        "!tar -zxvf news.2021.ja.shuffled.deduped.gz"
      ]
    },
    {
      "cell_type": "code",
      "execution_count": null,
      "metadata": {},
      "outputs": [],
      "source": [
        "import re\n",
        "import unicodedata\n",
        "import sentencepiece as spm"
      ]
    },
    {
      "cell_type": "markdown",
      "metadata": {
        "id": "frPStN4VJJbC"
      },
      "source": [
        "# Fairseq"
      ]
    },
    {
      "cell_type": "code",
      "execution_count": null,
      "metadata": {
        "colab": {
          "base_uri": "https://localhost:8080/"
        },
        "id": "QMUIzEqWJLKz",
        "outputId": "264d2659-b711-4763-a6d0-b15dbbb096fc"
      },
      "outputs": [],
      "source": [
        "# 準備\n",
        "# unkタグの割合が示してある\n",
        "# --destdir :バイナリデータの保存場所(def:data-bin)\n",
        "ENDICT='big-3.0-jaen/dict.en.txt'\n",
        "JADICT='big-3.0-jaen/dict.ja.txt'\n",
        "! fairseq-preprocess --source-lang ja --target-lang en --trainpref train --validpref valid --testpref test \\\n",
        "                     --destdir pbl-aug --srcdict $JADICT --tgtdict $ENDICT"
      ]
    },
    {
      "cell_type": "code",
      "execution_count": null,
      "metadata": {
        "colab": {
          "base_uri": "https://localhost:8080/"
        },
        "id": "BCY3QbYyJgts",
        "outputId": "5851e9c1-185b-4c61-de30-875868058b37"
      },
      "outputs": [],
      "source": [
        "# 訓練\n",
        "# データ拡張なので、無視してもいい\n",
        "PRETRAINED_MODEL=\"/content/drive/MyDrive/big-3.0-jaen/big.pretrain.pt\"\n",
        "SEED=10\n",
        "! fairseq-train pbl-aug --arch transformer --restore-file $PRETRAINED_MODEL \\\n",
        "    --no-epoch-checkpoints --no-last-checkpoints\\\n",
        "    --seed $SEED \\\n",
        "    --patience 10 \\\n",
        "    --batch-size 16 --optimizer adam --adam-betas '(0.9,0.98)' --lr 1e-4 --lr-scheduler inverse_sqrt --warmup-updates 4000 --warmup-init-lr 1e-07 \\\n",
        "    --dropout 0.1 --weight-decay 0.0001 --clip-norm 1.0 \\\n",
        "    --reset-optimizer --reset-meters --reset-dataloader --reset-lr-scheduler \\\n",
        "    --criterion label_smoothed_cross_entropy --label-smoothing 0.1 \\\n",
        "    --encoder-embed-dim 1024 --decoder-embed-dim 1024 \\\n",
        "    --encoder-ffn-embed-dim 4096 --decoder-ffn-embed-dim 4096 \\\n",
        "    --encoder-attention-heads 16 --decoder-attention-heads 16 \\\n",
        "    --log-interval 100 --validate-interval-updates 9999 --save-interval-updates 1000"
      ]
    },
    {
      "attachments": {},
      "cell_type": "markdown",
      "metadata": {
        "id": "QtO0UuA6SZv-"
      },
      "source": [
        "### データ拡張"
      ]
    },
    {
      "cell_type": "code",
      "execution_count": null,
      "metadata": {},
      "outputs": [],
      "source": [
        "!mv news.2021.ja.shuffled.deduped news-crawl21-500k.ja"
      ]
    },
    {
      "cell_type": "code",
      "execution_count": null,
      "metadata": {
        "colab": {
          "base_uri": "https://localhost:8080/"
        },
        "id": "0BF7XKyVoA9l",
        "outputId": "1e2c1713-57d1-4e75-b583-3dc0b8d8e25a"
      },
      "outputs": [],
      "source": [
        "MODEL='big-3.0-jaen/big.pretrain.pt'\n",
        "\n",
        "# 評価\n",
        "# max-len-b :出力単語数の制限\n",
        "IN_FILE='news.2021.ja.shuffled.deduped'\n",
        "# pbl-big3-enja 23.1\n",
        "! fairseq-interactive pbl-aug --path $MODEL --input $REF_FILE --batch-size 128 \\\n",
        " --remove-bpe sentencepiece --buffer-size 1024 --nbest 1 --max-len-b 50\\\n",
        "--beam 5 --task translation\\\n",
        "| grep \"^H-\" | sort -V | cut -f3 > news-crawl21-500k.en"
      ]
    }
  ],
  "metadata": {
    "colab": {
      "machine_shape": "hm",
      "provenance": []
    },
    "gpuClass": "premium",
    "kernelspec": {
      "display_name": "py37",
      "language": "python",
      "name": "python3"
    },
    "language_info": {
      "name": "python",
      "version": "3.8.8 (default, Apr 13 2021, 12:59:45) \n[Clang 10.0.0 ]"
    },
    "vscode": {
      "interpreter": {
        "hash": "0bbcfcc1b2607f9590d16c6d822fed489540cbd3ba0db4dddb602648fbc29ae6"
      }
    }
  },
  "nbformat": 4,
  "nbformat_minor": 0
}
