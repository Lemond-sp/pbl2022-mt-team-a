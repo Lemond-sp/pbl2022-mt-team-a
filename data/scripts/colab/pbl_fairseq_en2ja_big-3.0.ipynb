{
  "cells": [
    {
      "cell_type": "markdown",
      "metadata": {
        "id": "hwh8_W9RGIuT"
      },
      "source": [
        "fairseqによる機械翻訳(日英)"
      ]
    },
    {
      "cell_type": "code",
      "execution_count": null,
      "metadata": {
        "colab": {
          "base_uri": "https://localhost:8080/"
        },
        "id": "2R9MxPEOFyRJ",
        "outputId": "63e97e8b-b092-44cc-e79f-a2116cfa4987"
      },
      "outputs": [],
      "source": [
        "from google.colab import drive\n",
        "drive.mount('/content/drive')"
      ]
    },
    {
      "cell_type": "code",
      "execution_count": null,
      "metadata": {
        "colab": {
          "base_uri": "https://localhost:8080/"
        },
        "id": "I1aaWYvJ9E-V",
        "outputId": "70168f30-0d04-4af0-c11c-de929614e6fc"
      },
      "outputs": [],
      "source": [
        "!pip install sentencepiece\n",
        "import sentencepiece as spm"
      ]
    },
    {
      "cell_type": "markdown",
      "metadata": {
        "id": "cmlLjUdZyc1L"
      },
      "source": [
        "### 前処理\n",
        "\n",
        "\n",
        "\n",
        "*   NFKC正規化\n",
        "*   分長比率の高い物の削除\n",
        "\n"
      ]
    },
    {
      "cell_type": "markdown",
      "metadata": {
        "id": "fKNcuR3ANb4i"
      },
      "source": [
        "### 学習とデータ数調整"
      ]
    },
    {
      "cell_type": "code",
      "execution_count": null,
      "metadata": {
        "colab": {
          "base_uri": "https://localhost:8080/"
        },
        "id": "V3wuV1cfK2lC",
        "outputId": "3b3a0336-d583-461b-d743-811d73440ec9"
      },
      "outputs": [],
      "source": [
        "# 1万件に設定\n",
        "!sed -n '1,10000p' /content/drive/MyDrive/ja-news/news-crawl21-500k-rem-nfkc.en >> train.en\n",
        "!sed -n '1,10000p' /content/drive/MyDrive/ja-news/news-crawl21-500k-rem-nfkc.ja >> train.ja\n",
        "!wc -l train.en\n",
        "!wc -l train.ja"
      ]
    },
    {
      "cell_type": "code",
      "execution_count": null,
      "metadata": {
        "colab": {
          "base_uri": "https://localhost:8080/"
        },
        "id": "X_aWWNNrFze2",
        "outputId": "bfcf3084-1b54-441b-c787-05d425bd2ad5"
      },
      "outputs": [],
      "source": [
        "#/content/drive/MyDrive/translation\n",
        "# ライブラリのインストール\n",
        "! pip install fairseq==0.12.1\n",
        "\n",
        "# sacrebleu install(bleuを測るツール)\n",
        "! pip install sacrebleu\n",
        "! pip install sacrebleu[ja]"
      ]
    },
    {
      "cell_type": "code",
      "execution_count": null,
      "metadata": {
        "id": "iapgA-ClSt0R"
      },
      "outputs": [],
      "source": [
        "# テストセット(test,dev)であるwmt20のロード\n",
        "! sacrebleu -t wmt20 -l en-ja --echo src > wmt.test.en\n",
        "! sacrebleu -t wmt20 -l en-ja --echo ref > wmt.test.ja\n",
        "! sacrebleu -t wmt20/dev -l en-ja --echo src > wmt.valid.en\n",
        "! sacrebleu -t wmt20/dev -l en-ja --echo ref > wmt.valid.ja"
      ]
    },
    {
      "cell_type": "code",
      "execution_count": 18,
      "metadata": {
        "id": "RKKAtV1dh3mZ"
      },
      "outputs": [],
      "source": [
        "import unicodedata\n",
        "# 前処理（日本語の単語分割）\n",
        "# モデルのロード\n",
        "sp = spm.SentencePieceProcessor()\n",
        "sp.Load(\"/content/drive/MyDrive/enja_spm_models-3.0/spm.ja.nopretok.model\")\n",
        "\n",
        "# valid\n",
        "fout = open(\"valid.ja\", \"w\")\n",
        "fin = open(\"/content/drive/MyDrive/wmt.valid.ja\", \"r\")\n",
        "for line in fin:\n",
        "    line = unicodedata.normalize(\"NFKC\",line)\n",
        "    fout.write(\" \".join(sp.EncodeAsPieces(line)) + \"\\n\")\n",
        "fin.close()\n",
        "fout.close()\n",
        "\n",
        "# test\n",
        "fout = open(\"test.ja\", \"w\")\n",
        "fin = open(\"/content/drive/MyDrive/wmt.test.ja\", \"r\")\n",
        "for line in fin:\n",
        "    line = unicodedata.normalize(\"NFKC\",line)\n",
        "    fout.write(\" \".join(sp.EncodeAsPieces(line)) + \"\\n\")\n",
        "fin.close()\n",
        "fout.close()"
      ]
    },
    {
      "cell_type": "code",
      "execution_count": null,
      "metadata": {
        "id": "oW_Zy9xFInfR"
      },
      "outputs": [],
      "source": [
        "# 前処理（英語の単語分割）\n",
        "import unicodedata\n",
        "\n",
        "sp.Load(\"/content/drive/MyDrive/enja_spm_models-3.0/spm.en.nopretok.model\")\n",
        "\n",
        "# valid\n",
        "fout = open(\"valid.en\", \"w\")\n",
        "fin = open(\"/content/drive/MyDrive/wmt.valid.en\", \"r\")\n",
        "for line in fin:\n",
        "    line = unicodedata.normalize(\"NFKC\",line)\n",
        "    fout.write(\" \".join(sp.EncodeAsPieces(line)) + \"\\n\")\n",
        "fin.close()\n",
        "fout.close()\n",
        "\n",
        "\n",
        "# test\n",
        "fout = open(\"test.en\", \"w\")\n",
        "fin = open(\"/content/drive/MyDrive/wmt.test.en\", \"r\")\n",
        "for line in fin:\n",
        "    line = unicodedata.normalize(\"NFKC\",line)\n",
        "    fout.write(\" \".join(sp.EncodeAsPieces(line)) + \"\\n\")\n",
        "fin.close()\n",
        "fout.close()"
      ]
    },
    {
      "cell_type": "markdown",
      "metadata": {
        "id": "frPStN4VJJbC"
      },
      "source": [
        "# Fairseq"
      ]
    },
    {
      "cell_type": "code",
      "execution_count": null,
      "metadata": {
        "colab": {
          "base_uri": "https://localhost:8080/"
        },
        "id": "QMUIzEqWJLKz",
        "outputId": "c761f59a-987f-4e4a-abbc-54237d100a96"
      },
      "outputs": [],
      "source": [
        "# 準備\n",
        "# unkタグの割合が示してある\n",
        "# --destdir :バイナリデータの保存場所(def:data-bin)\n",
        "ENDICT='big-3.0-enja/dict.en.txt'\n",
        "JADICT='big-3.0-enja/dict.ja.txt'\n",
        "! fairseq-preprocess --source-lang en --target-lang ja --trainpref train --validpref valid --testpref test \\\n",
        "                     --destdir pbl-big3-enja3 --srcdict $ENDICT --tgtdict $JADICT"
      ]
    },
    {
      "cell_type": "code",
      "execution_count": null,
      "metadata": {
        "colab": {
          "base_uri": "https://localhost:8080/"
        },
        "id": "BCY3QbYyJgts",
        "outputId": "5851e9c1-185b-4c61-de30-875868058b37"
      },
      "outputs": [],
      "source": [
        "# 訓練\n",
        "PRETRAINED_MODEL=\"/content/drive/MyDrive/big-3.0-enja/big.pretrain.pt\"\n",
        "SEED=10\n",
        "! fairseq-train pbl-big3-enja3 --arch transformer --restore-file $PRETRAINED_MODEL \\\n",
        "    --no-epoch-checkpoints --no-last-checkpoints\\\n",
        "    --seed $SEED \\\n",
        "    --patience 10 \\\n",
        "    --batch-size 16 --optimizer adam --adam-betas '(0.9,0.98)' --lr 1e-4 --lr-scheduler inverse_sqrt --warmup-updates 4000 --warmup-init-lr 1e-07 \\\n",
        "    --dropout 0.1 --weight-decay 0.0001 --clip-norm 1.0 \\\n",
        "    --reset-optimizer --reset-meters --reset-dataloader --reset-lr-scheduler \\\n",
        "    --criterion label_smoothed_cross_entropy --label-smoothing 0.1 \\\n",
        "    --encoder-embed-dim 1024 --decoder-embed-dim 1024 \\\n",
        "    --encoder-ffn-embed-dim 4096 --decoder-ffn-embed-dim 4096 \\\n",
        "    --encoder-attention-heads 16 --decoder-attention-heads 16 \\\n",
        "    --log-interval 100 --validate-interval-updates 9999 --save-interval-updates 1000"
      ]
    },
    {
      "cell_type": "markdown",
      "metadata": {
        "id": "QtO0UuA6SZv-"
      },
      "source": [
        "### 評価"
      ]
    },
    {
      "cell_type": "code",
      "execution_count": null,
      "metadata": {
        "colab": {
          "base_uri": "https://localhost:8080/"
        },
        "id": "mHUM6kzrLZvQ",
        "outputId": "3ae2cf27-bbf9-441d-b32b-b5b90bc15960"
      },
      "outputs": [],
      "source": [
        "# 評価\n",
        "# max-len-b :出力単語数の制限\n",
        "ref_file = 'test.ja'\n",
        "REF_FILE=\"test.en\"\n",
        "\n",
        "# 学習済みモデル(サンプル)\n",
        "MODEL1='model1.pt'\n",
        "MODEL2='model2.pt'\n",
        "\n",
        "! fairseq-interactive pbl-big3-enja3 --path $MODEL1:$MODEL2 --input $REF_FILE --batch-size 128 \\\n",
        " --remove-bpe sentencepiece --buffer-size 1024 --nbest 1 --max-len-b 50\\\n",
        "--beam 5 --task translation\\\n",
        "| grep \"^H-\" | sort -V | cut -f3 > result.txt\n",
        "bleu(ref_file, \"result.txt\")"
      ]
    },
    {
      "cell_type": "code",
      "execution_count": null,
      "metadata": {},
      "outputs": [],
      "source": [
        "# wmt20 のテストデータに対するNFKC正規化\n",
        "with open('/content/drive/MyDrive/test.ja') as f,open('/content/drive/MyDrive/test-det.ja') as fw:\n",
        "  for line in f:\n",
        "    line = unicodedata.normalize(line,'NFKC')\n",
        "    fw.write(line)"
      ]
    },
    {
      "cell_type": "code",
      "execution_count": null,
      "metadata": {
        "colab": {
          "base_uri": "https://localhost:8080/"
        },
        "id": "yt3T3meKTJHR",
        "outputId": "50ef64b3-904c-4733-cf18-f65067bd92c0"
      },
      "outputs": [],
      "source": [
        "# sacrebleuによるBLEUスコア\n",
        "!sacrebleu  /content/drive/MyDrive/test-det.ja -i result.txt --tokenize ja-mecab"
      ]
    }
  ],
  "metadata": {
    "accelerator": "GPU",
    "colab": {
      "machine_shape": "hm",
      "provenance": []
    },
    "gpuClass": "premium",
    "kernelspec": {
      "display_name": "py37",
      "language": "python",
      "name": "python3"
    },
    "language_info": {
      "name": "python",
      "version": "3.8.8 (default, Apr 13 2021, 12:59:45) \n[Clang 10.0.0 ]"
    },
    "vscode": {
      "interpreter": {
        "hash": "0bbcfcc1b2607f9590d16c6d822fed489540cbd3ba0db4dddb602648fbc29ae6"
      }
    }
  },
  "nbformat": 4,
  "nbformat_minor": 0
}
