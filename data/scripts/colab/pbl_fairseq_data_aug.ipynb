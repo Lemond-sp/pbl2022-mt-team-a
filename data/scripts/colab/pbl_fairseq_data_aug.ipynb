{
  "cells": [
    {
      "attachments": {},
      "cell_type": "markdown",
      "metadata": {
        "id": "hwh8_W9RGIuT"
      },
      "source": [
        "## 日英翻訳によるデータ拡張\n",
        "\n",
        "- JParaCrawl big model v3.0 を使用\n",
        "- パスは適当に設定してください"
      ]
    },
    {
      "cell_type": "code",
      "execution_count": null,
      "metadata": {
        "colab": {
          "base_uri": "https://localhost:8080/"
        },
        "id": "2R9MxPEOFyRJ",
        "outputId": "af0607c6-995b-4b01-ae4c-5c1c8b626ed4"
      },
      "outputs": [],
      "source": [
        "from google.colab import drive\n",
        "drive.mount('/content/drive')"
      ]
    },
    {
      "cell_type": "code",
      "execution_count": null,
      "metadata": {
        "colab": {
          "base_uri": "https://localhost:8080/"
        },
        "id": "I1aaWYvJ9E-V",
        "outputId": "04ea1265-d9c0-4291-d2ac-7ca276831516"
      },
      "outputs": [],
      "source": [
        "# ライブラリのインストール\n",
        "! pip install sentencepiece\n",
        "! pip install fairseq==0.12.1\n",
        "! pip install sacrebleu\n",
        "! pip install sacrebleu[ja]\n",
        "\n",
        "# テストセット(test,dev)であるwmt20のロード\n",
        "! sacrebleu -t wmt20 -l en-ja --echo src > wmt.test.en\n",
        "! sacrebleu -t wmt20 -l en-ja --echo ref > wmt.test.ja\n",
        "! sacrebleu -t wmt20/dev -l en-ja --echo src > wmt.valid.en\n",
        "! sacrebleu -t wmt20/dev -l en-ja --echo ref > wmt.valid.ja"
      ]
    },
    {
      "cell_type": "code",
      "execution_count": null,
      "metadata": {},
      "outputs": [],
      "source": [
        "import re\n",
        "import unicodedata\n",
        "import sentencepiece as spm"
      ]
    },
    {
      "cell_type": "markdown",
      "metadata": {
        "id": "cmlLjUdZyc1L"
      },
      "source": [
        "### 前処理\n",
        "\n",
        "\n",
        "\n",
        "*   NFKC正規化\n",
        "*   分長比率の高い物の削除\n",
        "\n"
      ]
    },
    {
      "cell_type": "code",
      "execution_count": null,
      "metadata": {
        "colab": {
          "base_uri": "https://localhost:8080/",
          "height": 54
        },
        "id": "iPZZl1Q_0xNi",
        "outputId": "43e3b300-48dd-447e-ed39-77536083a507"
      },
      "outputs": [],
      "source": [
        "def remove_spm(text,mode='ja'):\n",
        "  text = text.replace('▁','')\n",
        "  if mode == 'ja':\n",
        "    text = text.replace(' ','')\n",
        "  # NFKC正規化(半角全角の正規化)\n",
        "  return unicodedata.normalize(\"NFKC\",text)\n",
        "\n",
        "en = \"Shin  bashi ' s Nine teen th F if teen th F if teen\"\n",
        "print(remove_spm(en,'en'))\n",
        "ja = \"▁この 頃 の 郡 司 正 勝 からの 助言 が 、 その後 の 道を 決めた 。\"\n",
        "remove_spm(ja)"
      ]
    },
    {
      "cell_type": "code",
      "execution_count": null,
      "metadata": {
        "colab": {
          "base_uri": "https://localhost:8080/"
        },
        "id": "TEsE0fUXBL7x",
        "outputId": "6dadaaa8-d052-4ff5-fad7-5499339626f6"
      },
      "outputs": [],
      "source": [
        "\"\"\"# 比率調査\n",
        "日英翻訳の際に、質の悪いものを弾く\n",
        "# 5.0より大きいものまたはまたは0.2より小さいを弾く\n",
        "結果：635の除去\n",
        "例１\n",
        "6.0\n",
        "Д  а  с  т  и  я  д  е  л  ь  д  е  л  ь  д  е  л  ь\n",
        " ハイウエストデニム\n",
        "別の言語が出力されてる例\n",
        "\n",
        "例２\n",
        "0.18181818181818182\n",
        "News - Yahoo ! JAPAN News\n",
        " 7日(日)も日差しありただ関東や東海など太平洋側を中心に所々で雨雲発生(tenki.jp)-Yahoo!ニュース\n",
        "部分的にしか翻訳されていない例\n",
        "\"\"\"\n",
        "\n",
        "MAX_RATE = 5\n",
        "MIN_RATE = 0.2\n",
        "\n",
        "spj = spm.SentencePieceProcessor()\n",
        "spj.Load(\"/content/MyDrive/enja_spm_models/spm.ja.nopretok.model\")\n",
        "spe = spm.SentencePieceProcessor()\n",
        "spe.Load(\"/content/MyDrive/enja_spm_models/spm.en.nopretok.model\")\n",
        "\n",
        "num = 0\n",
        "with open('/content/drive/MyDrive/ja-news/news-crawl21-500k.ja') as f1,open('/content/drive/MyDrive/ja-news/news-crawl21-500k.en') as f2,\\\n",
        "open('/content/drive/MyDrive/ja-news/news-crawl21-500k-rem-nfkc.ja','w') as fw1,open('/content/drive/MyDrive/ja-news/news-crawl21-500k-rem-nfkc.en','w') as fw2:\n",
        "  for ja,en in zip(f1,f2):\n",
        "    rate = len(en.split(' ')) / len(ja.split(' '))\n",
        "    if rate > MAX_RATE or rate < MIN_RATE:\n",
        "      print(rate)\n",
        "      ja = remove_spm(ja,'ja')\n",
        "      en = remove_spm(en,'en')\n",
        "      print(ja,en)\n",
        "      num += 1\n",
        "    else:\n",
        "      ja = remove_spm(ja,'ja')\n",
        "      en = remove_spm(en,'en')\n",
        "      fw1.write(\" \".join(spj.EncodeAsPieces(ja)) + \"\\n\")\n",
        "      fw2.write(\" \".join(spe.EncodeAsPieces(en)) + \"\\n\")\n",
        "  print(num) # 対象文書対の数"
      ]
    },
    {
      "cell_type": "markdown",
      "metadata": {
        "id": "fKNcuR3ANb4i"
      },
      "source": [
        "### 学習とデータ数調整"
      ]
    },
    {
      "cell_type": "code",
      "execution_count": null,
      "metadata": {
        "colab": {
          "base_uri": "https://localhost:8080/",
          "height": 122
        },
        "id": "1kCMLDRIhKLK",
        "outputId": "d0f885a8-c0f3-47e7-daa4-7852cc1db155"
      },
      "outputs": [],
      "source": [
        "! Google DriveのColab Notebooksフォルダへの移動\n",
        "%cd \"drive/MyDrive\"\n",
        "\n",
        "# 各データのDL\n",
        "# DLしていなかったら、してください\n",
        "\"\"\"!wget 'https://www.kecl.ntt.co.jp/icl/lirg/jparacrawl/release/1.0/pretrained_models/en-ja/big.tar.gz'\n",
        "!tar -zxvf big.tar.gz\"\"\"\n",
        "\"\"\"!wget 'https://www.kecl.ntt.co.jp/icl/lirg/jparacrawl/release/3.0/spm_models/en-ja_spm.tar.gz'\n",
        "!tar -zxvf en-ja_spm.tar.gz\"\"\"\n",
        "\"\"\"!wget 'https://data.statmt.org/news-crawl/ja/news.2021.ja.shuffled.deduped.gz'\n",
        "!tar -zxvf news.2021.ja.shuffled.deduped.gz\"\"\""
      ]
    }
  ],
  "metadata": {
    "colab": {
      "machine_shape": "hm",
      "provenance": []
    },
    "gpuClass": "premium",
    "kernelspec": {
      "display_name": "py37",
      "language": "python",
      "name": "python3"
    },
    "language_info": {
      "name": "python",
      "version": "3.8.8 (default, Apr 13 2021, 12:59:45) \n[Clang 10.0.0 ]"
    },
    "vscode": {
      "interpreter": {
        "hash": "0bbcfcc1b2607f9590d16c6d822fed489540cbd3ba0db4dddb602648fbc29ae6"
      }
    }
  },
  "nbformat": 4,
  "nbformat_minor": 0
}
